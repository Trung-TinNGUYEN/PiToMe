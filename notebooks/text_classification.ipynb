{
 "cells": [
  {
   "cell_type": "code",
   "execution_count": 13,
   "metadata": {},
   "outputs": [
    {
     "name": "stderr",
     "output_type": "stream",
     "text": [
      "/media/caduser/da936c0b-edd7-470e-ab92-9b972b220fe7/chau/miniconda3/envs/pitome/lib/python3.10/site-packages/huggingface_hub/file_download.py:1142: FutureWarning: `resume_download` is deprecated and will be removed in version 1.0.0. Downloads always resume when possible. If you want to force a new download, use `force_download=True`.\n",
      "  warnings.warn(\n",
      "/media/caduser/da936c0b-edd7-470e-ab92-9b972b220fe7/chau/miniconda3/envs/pitome/lib/python3.10/site-packages/transformers/modeling_utils.py:415: FutureWarning: You are using `torch.load` with `weights_only=False` (the current default value), which uses the default pickle module implicitly. It is possible to construct malicious pickle data which will execute arbitrary code during unpickling (See https://github.com/pytorch/pytorch/blob/main/SECURITY.md#untrusted-models for more details). In a future release, the default value for `weights_only` will be flipped to `True`. This limits the functions that could be executed during unpickling. Arbitrary objects will no longer be allowed to be loaded via this mode unless they are explicitly allowlisted by the user via `torch.serialization.add_safe_globals`. We recommend you start setting `weights_only=True` for any use case where you don't have full control of the loaded file. Please open an issue on GitHub for any issues related to this experimental feature.\n",
      "  return torch.load(checkpoint_file, map_location=\"cpu\")\n"
     ]
    }
   ],
   "source": [
    "from transformers import AutoModelForSequenceClassification, AutoTokenizer\n",
    "from algo import pitome\n",
    "\n",
    "# Load a pretrained model, can be bert or distilbert .\n",
    "model_ckt = 'JiaqiLee/imdb-finetuned-bert-base-uncased'\n",
    "# model_ckt = 'bert-base-uncased'\n",
    "# model_ckt = 'distilbert-base-uncased'\n",
    "model =  AutoModelForSequenceClassification.from_pretrained(model_ckt)\n",
    "tokenizer =  AutoTokenizer.from_pretrained(model_ckt)\n",
    "\n"
   ]
  },
  {
   "cell_type": "code",
   "execution_count": 14,
   "metadata": {},
   "outputs": [],
   "source": [
    "from ml_collections import ConfigDict\n",
    "from tasks.tc.dataset import ImdbDataset\n",
    "from tasks.tc.config import get_text_classification_config\n",
    "\n",
    "task = ConfigDict(dict(dataset_fn=ImdbDataset, config_getter=get_text_classification_config))\n",
    "config, _ = task.config_getter()    "
   ]
  },
  {
   "cell_type": "code",
   "execution_count": 15,
   "metadata": {},
   "outputs": [],
   "source": [
    "\n",
    "path = '/media/caduser/da936c0b-edd7-470e-ab92-9b972b220fe7/chau/PiToMe/data/tc'\n",
    "imdb_eval = task.dataset_fn(config, split='eval', data_path=path)    \n"
   ]
  },
  {
   "cell_type": "code",
   "execution_count": 16,
   "metadata": {},
   "outputs": [
    {
     "name": "stdout",
     "output_type": "stream",
     "text": [
      "label: tensor([1])\n",
      "====================================================================================================\n",
      "Excellent introspective / interpersonal piece that really had some teeth to it without feeling hopeless or worse, manipulative & artificially gratifying. Might be a good double feature with American Beauty as well. Best performance to date that I've seen from Anita Mui, and every actor in this seems like a powerhouse. Hats off to Ann Hui for the direction and Ivy Ho for the brilliant script. Seriously one of the best dramas I've seen in a while, especially if you have a taste for classical literature ALA poetry. Again, excellent.\n"
     ]
    }
   ],
   "source": [
    "import random\n",
    "idx= random.randint(0, len(imdb_eval) - 1)\n",
    "content, label = imdb_eval[idx]\n",
    "print('label:',label)\n",
    "print('='*100)\n",
    "print(content)"
   ]
  },
  {
   "cell_type": "code",
   "execution_count": 17,
   "metadata": {},
   "outputs": [],
   "source": [
    "inputs = tokenizer([content], truncation=True,max_length=512, padding=True, return_tensors='pt')\n",
    "outputs = model(**inputs, return_dict=False)\n",
    "label = outputs[0].argmax(-1).item()\n",
    "print('predicted label:',label)"
   ]
  },
  {
   "cell_type": "code",
   "execution_count": 21,
   "metadata": {},
   "outputs": [
    {
     "name": "stdout",
     "output_type": "stream",
     "text": [
      "predicted label: 1\n"
     ]
    }
   ],
   "source": []
  },
  {
   "cell_type": "code",
   "execution_count": 31,
   "metadata": {},
   "outputs": [
    {
     "name": "stdout",
     "output_type": "stream",
     "text": [
      "using pitome\n"
     ]
    }
   ],
   "source": [
    "# Patch the blip's visual encoder with PiToMe.\n",
    "pitome.patch.bert(model.bert.encoder)\n",
    "# pitome.patch.distilbert(model.distilbert.transformer)\n",
    "\n",
    "# Set the number of ratio of remaining token per layer. See paper for details.\n",
    "model.bert.encoder.ratio = 0.9\n",
    "# model.distilbert.transformer.ratio = self.ratio "
   ]
  },
  {
   "cell_type": "code",
   "execution_count": 32,
   "metadata": {},
   "outputs": [
    {
     "name": "stdout",
     "output_type": "stream",
     "text": [
      "predicted label: 1\n"
     ]
    }
   ],
   "source": [
    "outputs = model(**inputs, return_dict=False)\n",
    "label = outputs[0].argmax(-1).item()\n",
    "print('predicted label:',label)"
   ]
  },
  {
   "cell_type": "code",
   "execution_count": null,
   "metadata": {},
   "outputs": [],
   "source": []
  }
 ],
 "metadata": {
  "kernelspec": {
   "display_name": "pitome",
   "language": "python",
   "name": "python3"
  },
  "language_info": {
   "codemirror_mode": {
    "name": "ipython",
    "version": 3
   },
   "file_extension": ".py",
   "mimetype": "text/x-python",
   "name": "python",
   "nbconvert_exporter": "python",
   "pygments_lexer": "ipython3",
   "version": "3.10.14"
  }
 },
 "nbformat": 4,
 "nbformat_minor": 2
}
